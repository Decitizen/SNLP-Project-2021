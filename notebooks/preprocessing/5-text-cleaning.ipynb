{
 "cells": [
  {
   "cell_type": "markdown",
   "metadata": {
    "id": "ufzPdoTtNikq"
   },
   "source": [
    "## DNN Data Preprocessing"
   ]
  },
  {
   "cell_type": "code",
   "execution_count": null,
   "metadata": {
    "colab": {
     "base_uri": "https://localhost:8080/"
    },
    "id": "_1aIzoaWsGxJ",
    "outputId": "da20e0db-ff7b-4ca9-d689-448c431ddb7e"
   },
   "outputs": [
    {
     "name": "stdout",
     "output_type": "stream",
     "text": [
      "Mounted at /content/gdrive\n"
     ]
    }
   ],
   "source": [
    "import csv\n",
    "import time\n",
    "import pandas as pd\n",
    "import numpy as np\n",
    "\n",
    "from google.colab import drive\n",
    "drive.mount('/content/gdrive', force_remount=True)"
   ]
  },
  {
   "cell_type": "code",
   "execution_count": null,
   "metadata": {
    "colab": {
     "base_uri": "https://localhost:8080/"
    },
    "id": "cL7HcOw0sO1i",
    "outputId": "11548481-f958-4ada-8d56-50b4c8414ec0"
   },
   "outputs": [
    {
     "name": "stdout",
     "output_type": "stream",
     "text": [
      "community_labels.csv\n"
     ]
    }
   ],
   "source": [
    "ls \"/content/gdrive/My Drive/SNLP project/data/community_labels\""
   ]
  },
  {
   "cell_type": "code",
   "execution_count": null,
   "metadata": {
    "colab": {
     "base_uri": "https://localhost:8080/"
    },
    "id": "7NsCEgOmsyKy",
    "outputId": "1768710b-3984-430d-b12c-932ca23ebf43"
   },
   "outputs": [
    {
     "name": "stdout",
     "output_type": "stream",
     "text": [
      "Collecting tweet-preprocessor\n",
      "  Downloading https://files.pythonhosted.org/packages/17/9d/71bd016a9edcef8860c607e531f30bd09b13103c7951ae73dd2bf174163c/tweet_preprocessor-0.6.0-py3-none-any.whl\n",
      "Installing collected packages: tweet-preprocessor\n",
      "Successfully installed tweet-preprocessor-0.6.0\n"
     ]
    }
   ],
   "source": [
    "!pip install tweet-preprocessor"
   ]
  },
  {
   "cell_type": "markdown",
   "metadata": {
    "id": "UsC2UVdtHUvc"
   },
   "source": [
    "## Load data"
   ]
  },
  {
   "cell_type": "code",
   "execution_count": null,
   "metadata": {
    "colab": {
     "base_uri": "https://localhost:8080/"
    },
    "id": "1SsGPJfGzIGu",
    "outputId": "b6419d7c-c752-4b36-b37a-1817f0cff362"
   },
   "outputs": [
    {
     "data": {
      "text/plain": [
       "(1614860, 7)"
      ]
     },
     "execution_count": 5,
     "metadata": {
      "tags": []
     },
     "output_type": "execute_result"
    }
   ],
   "source": [
    "df_labels = pd.read_csv('/content/gdrive/My Drive/SNLP project/data/community_labels/community_labels.csv', header=0)\n",
    "df_text = pd.read_json('/content/gdrive/My Drive/SNLP project/data/text/tweets_climate_en_text_20200812.json', orient = \"records\", dtype = False, lines = True, encoding = \"utf-8\")\n",
    "df_labels.head()\n",
    "df_text.shape"
   ]
  },
  {
   "cell_type": "code",
   "execution_count": null,
   "metadata": {
    "id": "pmXPqwHRtzpT"
   },
   "outputs": [],
   "source": [
    "df_labels = df_labels.set_index('Id')\n",
    "df = df_text.join(df_labels[['Cluster']], on='user_id_str')"
   ]
  },
  {
   "cell_type": "code",
   "execution_count": null,
   "metadata": {
    "id": "4hd5pd5hzvtf"
   },
   "outputs": [],
   "source": [
    "pd.options.mode.chained_assignment = None\n",
    "df_clean = df.loc[df['Cluster'].notna()]\n",
    "df_clean.loc[:,'Cluster'] = df_clean['Cluster'].astype(int)\n",
    "df_clean.reset_index(inplace=True)"
   ]
  },
  {
   "cell_type": "code",
   "execution_count": null,
   "metadata": {
    "colab": {
     "base_uri": "https://localhost:8080/"
    },
    "id": "wJlb9iLcRD0n",
    "outputId": "f31b90b5-f3a8-445b-a70d-3b2deded3e0a"
   },
   "outputs": [
    {
     "data": {
      "text/plain": [
       "(1392798, 9)"
      ]
     },
     "execution_count": 8,
     "metadata": {
      "tags": []
     },
     "output_type": "execute_result"
    }
   ],
   "source": [
    "df_clean.shape"
   ]
  },
  {
   "cell_type": "markdown",
   "metadata": {
    "id": "W5tUOfA_Xh_a"
   },
   "source": [
    "## Select original tweets"
   ]
  },
  {
   "cell_type": "code",
   "execution_count": null,
   "metadata": {
    "id": "wkgwFyuD-C5Q"
   },
   "outputs": [],
   "source": [
    "# Select only tweets that explicitly mention word 'climate' (Twitter API fetches some that are included in metadata)\n",
    "df_clean = df_clean.loc[df_clean.content.apply(lambda x: 'climate' in str(x).lower())]\n",
    "\n",
    "# Select only original tweets\n",
    "df_clean = df_clean.loc[df_clean['parent_tweet_id_str'] == 83992313].reset_index().drop('index', axis=1)"
   ]
  },
  {
   "cell_type": "code",
   "execution_count": null,
   "metadata": {
    "colab": {
     "base_uri": "https://localhost:8080/"
    },
    "id": "u_kZbzMAROQm",
    "outputId": "a99e7f95-361a-41d2-f055-08ede934a6f8"
   },
   "outputs": [
    {
     "data": {
      "text/plain": [
       "(154921, 9)"
      ]
     },
     "execution_count": 14,
     "metadata": {
      "tags": []
     },
     "output_type": "execute_result"
    }
   ],
   "source": [
    "df_clean.shape"
   ]
  },
  {
   "cell_type": "code",
   "execution_count": null,
   "metadata": {
    "id": "fAaQ8dMDXDHn"
   },
   "outputs": [],
   "source": [
    "n_s = df_clean.loc[df_clean.Cluster == 1].shape[0]"
   ]
  },
  {
   "cell_type": "code",
   "execution_count": null,
   "metadata": {
    "colab": {
     "base_uri": "https://localhost:8080/"
    },
    "id": "SfQV6y7YBRug",
    "outputId": "6e6c46e3-aad8-45e4-a2fd-efcd78d7e33a"
   },
   "outputs": [
    {
     "name": "stdout",
     "output_type": "stream",
     "text": [
      "Number of samples used for stratified sampling: 49598 (32.02%)\n"
     ]
    }
   ],
   "source": [
    "print(\"Number of samples used for stratified sampling: {} ({:.2f}%)\".format(2*n_s, 100*(n_s*2) / df_clean.shape[0]))"
   ]
  },
  {
   "cell_type": "markdown",
   "metadata": {
    "id": "q3eq7wKhZKF4"
   },
   "source": [
    "## Preprocess tweet content"
   ]
  },
  {
   "cell_type": "code",
   "execution_count": null,
   "metadata": {
    "id": "TdLhAp5Rp9L4"
   },
   "outputs": [],
   "source": [
    "from functools import reduce\n",
    "seed = 1234\n",
    "\n",
    "def sample(df, n_clusters, n_samples):\n",
    "\n",
    "  # Stratified sampling\n",
    "  frames = []\n",
    "  for i in range(n_clusters):\n",
    "    df_i = df[df.Cluster == i]\n",
    "    should_replace = len(df_i) < n_s\n",
    "    if should_replace:\n",
    "      print(f\"Number of samples for cluster {i} less than n_s, so we sample with replacement...\")\n",
    "    samples_i = df_i.sample(n=n_samples, replace=should_replace, random_state=seed)\n",
    "    frames.append(samples_i)\n",
    "  return pd.concat(frames)\n",
    "\n",
    "df_clean_sample = sample(df_clean, 2, n_s)"
   ]
  },
  {
   "cell_type": "code",
   "execution_count": null,
   "metadata": {
    "colab": {
     "base_uri": "https://localhost:8080/"
    },
    "id": "-_vmSD361mQd",
    "outputId": "0677586e-6307-48a3-dd77-dc05c45f4d10"
   },
   "outputs": [],
   "source": [
    "import re\n",
    "df_clean_sample['content'] = df_clean_sample['content'].apply(lambda t: re.sub(r'\\s[uU]([\\s\\!\\?\\.]+)', r' you\\1', t))\n",
    "df_clean_sample['content'] = df_clean_sample['content'].apply(lambda t: re.sub(r'\\s[b-hj-tv-zB-HJ-TV-Z]([\\s\\!\\?\\.]+)', r'\\1', t))\n",
    "\n",
    "import preprocessor as tp\n",
    "tp.set_options(tp.OPT.URL, tp.OPT.RESERVED, tp.OPT.HASHTAG, tp.OPT.MENTION)\n",
    "df_clean_sample['content'] = df_clean_sample['content'].apply(lambda x: tp.clean(x))\n",
    "\n",
    "txts = list(df_clean_sample['content'].values)\n",
    "max_sent = max(txts, key=lambda x: len(x.split()))\n",
    "max_idx = txts.index(max_sent)\n",
    "\n",
    "max_seq_length = len(max_sent.split())\n",
    "\n",
    "print('* Tweet with most tokens: {}'.format(txts[max_idx]))\n",
    "print('* Sentence max length: {} tokens'.format(max_seq_length))"
   ]
  },
  {
   "cell_type": "code",
   "execution_count": null,
   "metadata": {
    "colab": {
     "base_uri": "https://localhost:8080/"
    },
    "id": "MIcNA9Ob08Qm",
    "outputId": "48c25fd3-c993-4b51-acae-cd06723edace"
   },
   "outputs": [
    {
     "name": "stdout",
     "output_type": "stream",
     "text": [
      "* After content preprocessing and sampling, we are left with 49598 (3.07% of total) tweets.\n"
     ]
    }
   ],
   "source": [
    "print('* After content preprocessing and sampling, we are left with {} ({:.2f}% of total) tweets.'.format(df_clean_sample.shape[0], 100* df_clean_sample.shape[0] / df.shape[0]))"
   ]
  },
  {
   "cell_type": "code",
   "execution_count": null,
   "metadata": {
    "colab": {
     "base_uri": "https://localhost:8080/"
    },
    "id": "x5ToZtZZBmZl",
    "outputId": "a0e0d735-e286-4008-e022-a1095234b360"
   },
   "outputs": [
    {
     "name": "stdout",
     "output_type": "stream",
     "text": [
      "[24799 24799]\n"
     ]
    }
   ],
   "source": [
    "W = df_clean_sample.groupby('Cluster').count()['content'].values\n",
    "print(W)"
   ]
  },
  {
   "cell_type": "code",
   "execution_count": null,
   "metadata": {
    "colab": {
     "base_uri": "https://localhost:8080/",
     "height": 281
    },
    "id": "wG23ECYcv-9h",
    "outputId": "e2c6acdf-41d7-405d-f425-fd715d820673"
   },
   "outputs": [
    {
     "data": {
      "text/plain": [
       "<BarContainer object of 2 artists>"
      ]
     },
     "execution_count": 18,
     "metadata": {
      "tags": []
     },
     "output_type": "execute_result"
    },
    {
     "data": {
      "image/png": "[encoded data removed]",
      "text/plain": [
       "<Figure size 432x288 with 1 Axes>"
      ]
     },
     "metadata": {
      "needs_background": "light",
      "tags": []
     },
     "output_type": "display_data"
    }
   ],
   "source": [
    "import matplotlib.pyplot as plt\n",
    "\n",
    "plt.bar(['Pro','Anti'], W)"
   ]
  },
  {
   "cell_type": "code",
   "execution_count": null,
   "metadata": {
    "id": "YVM1zgaI0Xg7"
   },
   "outputs": [],
   "source": [
    "df_clean_sample.to_csv('/content/gdrive/MyDrive/SNLP project/data/preprocessed_tweets/df_clean_sampled_binary.csv', index=False)"
   ]
  },
  {
   "cell_type": "code",
   "execution_count": null,
   "metadata": {
    "id": "ndra5-DQ0-Zs"
   },
   "outputs": [],
   "source": [
    "df_clean.to_csv('/content/gdrive/MyDrive/SNLP project/data/preprocessed_tweets/df_clean.csv', index=False)"
   ]
  }
 ],
 "metadata": {
  "colab": {
   "collapsed_sections": [],
   "machine_shape": "hm",
   "name": "dnn_tweet_preprocessing.ipynb",
   "provenance": [],
   "toc_visible": true
  },
  "kernelspec": {
   "display_name": "Python 3",
   "language": "python",
   "name": "python3"
  },
  "language_info": {
   "codemirror_mode": {
    "name": "ipython",
    "version": 3
   },
   "file_extension": ".py",
   "mimetype": "text/x-python",
   "name": "python",
   "nbconvert_exporter": "python",
   "pygments_lexer": "ipython3",
   "version": "3.8.5"
  }
 },
 "nbformat": 4,
 "nbformat_minor": 4
}
