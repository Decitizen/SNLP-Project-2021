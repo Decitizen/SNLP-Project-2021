{
 "cells": [
  {
   "cell_type": "code",
   "execution_count": 1,
   "metadata": {},
   "outputs": [],
   "source": [
    "import numpy as np\n",
    "import pandas as pd\n",
    "import random\n",
    "import networkx as nx\n",
    "import matplotlib.pyplot as plt\n",
    "import json\n",
    "import pickle"
   ]
  },
  {
   "cell_type": "markdown",
   "metadata": {},
   "source": [
    "# Interaction Network Construction\n",
    "## **SNLP team project**\n",
    "Build 3 different network layers including following relationships: \n",
    "1. **all interactions** (edge weights are sum of layers 2. and 3.)\n",
    "2. **retweets** \n",
    "3. **mentions** (includes replies) \n",
    "\n",
    "This notebook will output a pickled list consisting of 3 networkx.DiGraph objects, each representing a layer of different interactions. Edge weight attributes are named as: `interactions`,`retweets`,`mentions`. "
   ]
  },
  {
   "cell_type": "markdown",
   "metadata": {},
   "source": [
    "#### Load data"
   ]
  },
  {
   "cell_type": "code",
   "execution_count": 2,
   "metadata": {},
   "outputs": [],
   "source": [
    "fpath = '../../tweet_data/preprocessed/network/'\n",
    "date = '20200812'"
   ]
  },
  {
   "cell_type": "code",
   "execution_count": 3,
   "metadata": {
    "scrolled": true
   },
   "outputs": [],
   "source": [
    "attrs  = ['interactions', 'retweets', 'mentions']\n",
    "edges = []\n",
    "\n",
    "with open('{}edges_{}.json'.format(fpath,date), 'r') as edge_f:\n",
    "    edges = json.load(edge_f)"
   ]
  },
  {
   "cell_type": "markdown",
   "metadata": {},
   "source": [
    "#### Transform routine"
   ]
  },
  {
   "cell_type": "code",
   "execution_count": 4,
   "metadata": {},
   "outputs": [],
   "source": [
    "def transform_GX(G, g_type='G1', directed=True):\n",
    "    \"\"\"\n",
    "    Transforms original \"hypergraph\" to any of the three types \n",
    "    of interaction networks. Link direction is from the origin node of the \n",
    "    interaction towards the node that is the target of the interaction.\n",
    "    \n",
    "    G1 = interactions network (includes retweets, replies and mentions)\n",
    "    G2 = retweet network\n",
    "    G3 = mentions (includes replies and other mentions)\n",
    "    \n",
    "    output: networkx graph object (directed or undirected depending \n",
    "            on input parameter \"directed\")\n",
    "    \"\"\"\n",
    "    assert any([e in g_type for e in ['G1','G2','G3']])\n",
    "    \n",
    "    trf = None\n",
    "    attr = None\n",
    "    \n",
    "    # Retweet / endorsement network\n",
    "    if g_type == 'G2':\n",
    "        attr = 'retweets'\n",
    "        trf  = lambda x: (x[0],x[1],{attr: x[2]['retweets']})\n",
    "    # Mention / endorsement network\n",
    "    elif  g_type == 'G3':\n",
    "        attr = 'mentions'\n",
    "        trf = lambda x: (x[0],x[1],{attr: (x[2]['replies'] + x[2]['orig_mentions'])})\n",
    "    # Interaction network\n",
    "    elif g_type == 'G1':\n",
    "        attr = 'interactions'\n",
    "        trf  = lambda x: (x[0],x[1],{attr: (x[2]['replies'] + x[2]['retweets'] + x[2]['orig_mentions'])})\n",
    "    \n",
    "    # Map attributes\n",
    "    edges = list(map(trf, G.edges(data=True)))\n",
    "    \n",
    "    # Select edges with only non-zero weight\n",
    "    edges = list(filter(lambda x: x[2][attr] != 0, edges))\n",
    "    \n",
    "    G_i = nx.DiGraph()\n",
    "    G_i.add_edges_from(edges)\n",
    "    G_i.add_nodes_from(G.nodes())\n",
    "    \n",
    "    if not directed:\n",
    "        G_i = G_i.to_undirected()\n",
    "    \n",
    "    return G_i"
   ]
  },
  {
   "cell_type": "code",
   "execution_count": 5,
   "metadata": {},
   "outputs": [],
   "source": [
    "def print_number_of_nodes_edges(GX, attrs):\n",
    "    for G, attr in zip(GX, attrs):\n",
    "        print(attr.upper())\n",
    "        print('Number of nodes: {}'.format(G.number_of_nodes()))\n",
    "        print('Number of edges: {}'.format(G.number_of_edges()))    \n",
    "        print(50*'--')"
   ]
  },
  {
   "cell_type": "markdown",
   "metadata": {},
   "source": [
    "---\n",
    "\n",
    "## Constructing the network representation"
   ]
  },
  {
   "cell_type": "markdown",
   "metadata": {},
   "source": [
    "### Full network"
   ]
  },
  {
   "cell_type": "code",
   "execution_count": 6,
   "metadata": {
    "scrolled": true
   },
   "outputs": [],
   "source": [
    "Gs = nx.DiGraph()\n",
    "Gs.add_edges_from(edges) "
   ]
  },
  {
   "cell_type": "markdown",
   "metadata": {},
   "source": [
    "### Directed $G_I$, $G_R$ and $G_M$\n",
    "Transform the data into three directed diffusion networks."
   ]
  },
  {
   "cell_type": "code",
   "execution_count": 7,
   "metadata": {},
   "outputs": [],
   "source": [
    "GX = [transform_GX(Gs, g_type=g_type, directed=True) for g_type in ['G1','G2','G3']]"
   ]
  },
  {
   "cell_type": "code",
   "execution_count": 8,
   "metadata": {},
   "outputs": [
    {
     "name": "stdout",
     "output_type": "stream",
     "text": [
      "INTERACTIONS\n",
      "Number of nodes: 809157\n",
      "Number of edges: 1653004\n",
      "----------------------------------------------------------------------------------------------------\n",
      "RETWEETS\n",
      "Number of nodes: 809157\n",
      "Number of edges: 1089988\n",
      "----------------------------------------------------------------------------------------------------\n",
      "MENTIONS\n",
      "Number of nodes: 809157\n",
      "Number of edges: 603392\n",
      "----------------------------------------------------------------------------------------------------\n"
     ]
    }
   ],
   "source": [
    "print_number_of_nodes_edges(GX, attrs)"
   ]
  },
  {
   "cell_type": "markdown",
   "metadata": {},
   "source": [
    "## Bounded version\n",
    "We select largest the component and remove any self-loops."
   ]
  },
  {
   "cell_type": "markdown",
   "metadata": {},
   "source": [
    "#### Self loops"
   ]
  },
  {
   "cell_type": "code",
   "execution_count": 9,
   "metadata": {},
   "outputs": [
    {
     "name": "stdout",
     "output_type": "stream",
     "text": [
      "INTERACTIONS\n",
      "Self-edges: 8991 / (0.54 %)\n",
      "----------------------------------------------------------------------------------------------------\n",
      "RETWEETS\n",
      "Self-edges: 3717 / (0.34 %)\n",
      "----------------------------------------------------------------------------------------------------\n",
      "MENTIONS\n",
      "Self-edges: 5771 / (0.96 %)\n",
      "----------------------------------------------------------------------------------------------------\n"
     ]
    }
   ],
   "source": [
    "for i in range(3):\n",
    "    print(attrs[i].upper())\n",
    "    es = [u for u in nx.selfloop_edges(GX[i])]\n",
    "    print('Self-edges: {} / ({:.2f} %)'.format(len(es), len(es)/GX[i].number_of_edges()*100))\n",
    "    print(50*'--')"
   ]
  },
  {
   "cell_type": "code",
   "execution_count": 10,
   "metadata": {},
   "outputs": [],
   "source": [
    "GX_bounded = []\n",
    "for G in GX: \n",
    "    nbunch = list(nx.connected_components(G.to_undirected()))[0]\n",
    "    G = nx.subgraph(G, nbunch)\n",
    "    \n",
    "    Gx = G.copy()\n",
    "    for e in nx.selfloop_edges(G):\n",
    "        Gx.remove_edge(e[0],e[1]) \n",
    "    \n",
    "    GX_bounded.append(Gx)"
   ]
  },
  {
   "cell_type": "code",
   "execution_count": 11,
   "metadata": {},
   "outputs": [
    {
     "name": "stdout",
     "output_type": "stream",
     "text": [
      "INTERACTIONS\n",
      "Number of nodes: 745362\n",
      "Number of edges: 1599989\n",
      "----------------------------------------------------------------------------------------------------\n",
      "RETWEETS\n",
      "Number of nodes: 625893\n",
      "Number of edges: 1066722\n",
      "----------------------------------------------------------------------------------------------------\n",
      "MENTIONS\n",
      "Number of nodes: 273823\n",
      "Number of edges: 552618\n",
      "----------------------------------------------------------------------------------------------------\n"
     ]
    }
   ],
   "source": [
    "print_number_of_nodes_edges(GX_bounded, attrs)"
   ]
  },
  {
   "cell_type": "markdown",
   "metadata": {},
   "source": [
    "#### Save"
   ]
  },
  {
   "cell_type": "code",
   "execution_count": 12,
   "metadata": {},
   "outputs": [],
   "source": [
    "fpath = '../../tweet_data/graphs/'\n",
    "fname = 'full_networks_directed-{}.pickle'.format(date)\n",
    "fname_bounded = 'lc_networks_directed-{}.pickle'.format(date)\n",
    "\n",
    "pd.to_pickle(GX, fpath+fname)\n",
    "pd.to_pickle(GX_bounded, fpath+fname_bounded)"
   ]
  }
 ],
 "metadata": {
  "kernelspec": {
   "display_name": "gcn",
   "language": "python",
   "name": "gcn"
  },
  "language_info": {
   "codemirror_mode": {
    "name": "ipython",
    "version": 3
   },
   "file_extension": ".py",
   "mimetype": "text/x-python",
   "name": "python",
   "nbconvert_exporter": "python",
   "pygments_lexer": "ipython3",
   "version": "3.8.5"
  }
 },
 "nbformat": 4,
 "nbformat_minor": 4
}
