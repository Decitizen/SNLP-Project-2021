{
 "cells": [
  {
   "cell_type": "markdown",
   "metadata": {},
   "source": [
    "# Evaluation\n",
    "## **SNLP team project**"
   ]
  },
  {
   "cell_type": "markdown",
   "metadata": {},
   "source": [
    "In this notebook, we evaluate the models.\n",
    "\n",
    "**Notebook implements following functionality:**\n",
    "* Load finetuned models\n",
    "* Evaluate test score"
   ]
  },
  {
   "cell_type": "code",
   "execution_count": 74,
   "metadata": {
    "id": "bpqWtOrQZQkE"
   },
   "outputs": [],
   "source": [
    "# External utils\n",
    "import csv\n",
    "import time\n",
    "import torch\n",
    "import pickle \n",
    "import pandas as pd\n",
    "import numpy as np\n",
    "import seaborn as sn\n",
    "from sklearn.model_selection import train_test_split\n",
    "from sklearn.metrics import confusion_matrix\n",
    "\n",
    "# Torch libs\n",
    "import torch.nn as nn\n",
    "from torch.optim import AdamW\n",
    "from torch.utils.data import Dataset, DataLoader\n",
    "\n",
    "import transformers\n",
    "from transformers import BertModel, BertTokenizer, AdamW, get_linear_schedule_with_warmup\n",
    "from transformers import pipeline, AutoModelForTokenClassification, AutoTokenizer, AutoModel\n",
    "from transformers.optimization import get_linear_schedule_with_warmup\n",
    "from transformers import BertModel"
   ]
  },
  {
   "cell_type": "code",
   "execution_count": 75,
   "metadata": {
    "cellView": "form",
    "colab": {
     "base_uri": "https://localhost:8080/"
    },
    "id": "w68CZpOwFoly",
    "outputId": "a4c82fcf-1766-44b1-af85-9acc4540af5a"
   },
   "outputs": [
    {
     "data": {
      "text/plain": [
       "device(type='cuda', index=0)"
      ]
     },
     "execution_count": 75,
     "metadata": {
      "tags": []
     },
     "output_type": "execute_result"
    }
   ],
   "source": [
    "#@title Setup & Config\n",
    "\n",
    "import numpy as np\n",
    "import pandas as pd\n",
    "import seaborn as sns\n",
    "from pylab import rcParams\n",
    "import matplotlib.pyplot as plt\n",
    "from matplotlib import rc\n",
    "from sklearn.model_selection import train_test_split\n",
    "from sklearn.metrics import confusion_matrix, classification_report\n",
    "from collections import defaultdict\n",
    "from textwrap import wrap\n",
    "\n",
    "from torch import nn, optim\n",
    "from torch.utils.data import Dataset, DataLoader\n",
    "import torch.nn.functional as F\n",
    "\n",
    "\n",
    "%matplotlib inline\n",
    "%config InlineBackend.figure_format='retina'\n",
    "sns.set(style='whitegrid', palette='muted', font_scale=1.2)\n",
    "HAPPY_COLORS_PALETTE = [\"#01BEFE\", \"#FFDD00\", \"#FF7D00\", \"#FF006D\", \"#ADFF02\", \"#8F00FF\"]\n",
    "sns.set_palette(sns.color_palette(HAPPY_COLORS_PALETTE))\n",
    "rcParams['figure.figsize'] = 12, 8\n",
    "RANDOM_SEED = 42\n",
    "np.random.seed(RANDOM_SEED)\n",
    "torch.manual_seed(RANDOM_SEED)\n",
    "\n",
    "device = torch.device(\"cuda:0\" if torch.cuda.is_available() else \"cpu\")\n",
    "device"
   ]
  },
  {
   "cell_type": "code",
   "execution_count": null,
   "metadata": {},
   "outputs": [],
   "source": [
    "# For google drive integration\n",
    "from google.colab import drive"
   ]
  },
  {
   "cell_type": "markdown",
   "metadata": {
    "id": "H3cL_1qVn_6h"
   },
   "source": [
    "### Load model"
   ]
  },
  {
   "cell_type": "code",
   "execution_count": 83,
   "metadata": {
    "colab": {
     "base_uri": "https://localhost:8080/"
    },
    "id": "m3dB8S8grnAP",
    "outputId": "b10d5b4f-2a43-403f-d780-62d90107df68"
   },
   "outputs": [
    {
     "name": "stdout",
     "output_type": "stream",
     "text": [
      "0 /content/gdrive/MyDrive/SNLP project/models/archive\n",
      "1 /content/gdrive/MyDrive/SNLP project/models/archive/Copy of covid-twitter-bert-v2_epoch_1.pt\n",
      "2 /content/gdrive/MyDrive/SNLP project/models/archive/Copy of covid-twitter-bert-v2_epoch_2.pt\n",
      "3 /content/gdrive/MyDrive/SNLP project/models/bert-large-cased_epoch_1.pt\n",
      "4 /content/gdrive/MyDrive/SNLP project/models/bert-large-cased_epoch_2.pt\n",
      "5 /content/gdrive/MyDrive/SNLP project/models/covid-twitter-bert-v2_epoch_1.pt\n",
      "6 /content/gdrive/MyDrive/SNLP project/models/covid-twitter-bert-v2_epoch_2.pt\n",
      "7 /content/gdrive/MyDrive/SNLP project/models/roberta-large_epoch_1.pt\n",
      "8 /content/gdrive/MyDrive/SNLP project/models/roberta-large_epoch_2.pt\n",
      "Input model to load (0-8): 6\n",
      "Loading model...\n",
      "Model loaded.\n"
     ]
    }
   ],
   "source": [
    "if skip_training: # Load model\n",
    "\n",
    "  # Prompt for which model to load\n",
    "  models_path = PROJECT_PATH + 'models/'\n",
    "  models = !find '{models_path}'*\n",
    "  for i,m in enumerate(models):\n",
    "    print(i, m)\n",
    "  input_str = input('Input model to load (0-{}): '.format(len(models)-1))\n",
    "  print('Loading model...')\n",
    "  \n",
    "  model = SentimentClassifier(N_CLUSTERS, DROPOUT)\n",
    "  model = model.to(device)\n",
    "  model.load_state_dict(torch.load(models[int(input_str)], map_location=device))\n",
    "  print('Model loaded.')\n",
    "\n",
    "  loss_fn = nn.CrossEntropyLoss().to(device)"
   ]
  },
  {
   "cell_type": "code",
   "execution_count": 84,
   "metadata": {
    "colab": {
     "base_uri": "https://localhost:8080/"
    },
    "id": "Wwh_rW4Efhs3",
    "outputId": "7d7b1959-7e57-448d-ab57-fe6bda1a2600"
   },
   "outputs": [
    {
     "name": "stdout",
     "output_type": "stream",
     "text": [
      "Test accuracy for the model: 0.9222\n"
     ]
    }
   ],
   "source": [
    "model.eval()\n",
    "\n",
    "test_acc, _ = eval_model(\n",
    "  model,\n",
    "  test_data_loader,\n",
    "  loss_fn,\n",
    "  device,\n",
    "  len(df_test)\n",
    ")\n",
    "\n",
    "print('Test accuracy for the model: {:.4f}'.format(test_acc))"
   ]
  },
  {
   "cell_type": "code",
   "execution_count": 89,
   "metadata": {
    "colab": {
     "base_uri": "https://localhost:8080/"
    },
    "id": "uW3mvNehrDis",
    "outputId": "22b1d5f1-0bb6-4bd3-b27d-5f000c00b8bc"
   },
   "outputs": [
    {
     "name": "stderr",
     "output_type": "stream",
     "text": [
      "/usr/local/lib/python3.7/dist-packages/transformers/tokenization_utils_base.py:2079: FutureWarning: The `pad_to_max_length` argument is deprecated and will be removed in a future version, use `padding=True` or `padding='longest'` to pad to the longest sequence in the batch, or use `padding='max_length'` to pad to a max length. In this case, you can give a specific length with `max_length` (e.g. `max_length=45`) or leave max_length to None to pad to the maximal input size of the model (e.g. 512 for Bert).\n",
      "  FutureWarning,\n"
     ]
    }
   ],
   "source": [
    "n_sample = 1000\n",
    "tweets = df_test.sample(n=n_sample, replace=False)\n",
    "encoded_tweets = encode_tweets(tweets[\"content\"])"
   ]
  },
  {
   "cell_type": "code",
   "execution_count": 90,
   "metadata": {
    "id": "XPsTyGBvrWtq"
   },
   "outputs": [],
   "source": [
    "predicted_labels = predict_sentiment(encoded_tweets, n_sample)"
   ]
  },
  {
   "cell_type": "code",
   "execution_count": 91,
   "metadata": {
    "colab": {
     "base_uri": "https://localhost:8080/",
     "height": 248
    },
    "id": "6d1qxsc__DTh",
    "outputId": "2e14ec95-8ab9-4609-f179-566b0c349925"
   },
   "outputs": [
    {
     "data": {
      "image/png": "[encoded data removed]",
      "text/plain": [
       "<Figure size 288x259.2 with 2 Axes>"
      ]
     },
     "metadata": {
      "image/png": {
       "height": 232,
       "width": 271
      },
      "tags": []
     },
     "output_type": "display_data"
    }
   ],
   "source": [
    "row_labels = ['TP','TN']\n",
    "col_labels = ['PP','PN']\n",
    "CM = confusion_matrix(tweets[\"Cluster\"].values, predicted_labels)\n",
    "df_cm = pd.DataFrame(CM, index=row_labels[:2], columns=col_labels[:2])\n",
    "plt.figure(figsize=(4,3.6))\n",
    "sn.heatmap(df_cm, annot=True, fmt=\"d\")\n",
    "plt.savefig('ct_bert_v2_confusion_matrix.pdf')"
   ]
  },
  {
   "cell_type": "code",
   "execution_count": 92,
   "metadata": {
    "id": "9fZ4NyL9CWDp"
   },
   "outputs": [],
   "source": [
    "tweets['predicted'] = list(predicted_labels) \n",
    "n = 10\n",
    "seed = 1234\n",
    "pd.set_option('display.max_colwidth',500)"
   ]
  }
 ],
 "metadata": {
  "kernelspec": {
   "display_name": "Python 3",
   "language": "python",
   "name": "python3"
  },
  "language_info": {
   "codemirror_mode": {
    "name": "ipython",
    "version": 3
   },
   "file_extension": ".py",
   "mimetype": "text/x-python",
   "name": "python",
   "nbconvert_exporter": "python",
   "pygments_lexer": "ipython3",
   "version": "3.8.5"
  }
 },
 "nbformat": 4,
 "nbformat_minor": 4
}
