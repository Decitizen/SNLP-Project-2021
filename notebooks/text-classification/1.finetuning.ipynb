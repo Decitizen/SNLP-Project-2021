{
 "cells": [
  {
   "cell_type": "markdown",
   "metadata": {},
   "source": [
    "# Fine tuning\n",
    "## **SNLP team project**"
   ]
  },
  {
   "cell_type": "markdown",
   "metadata": {},
   "source": [
    "In this notebook, we finetune the models.\n",
    "\n",
    "**Notebook implements following functionality:**\n",
    "* Setup\n",
    "* Define methods and classes\n",
    "* Load preprocessed tweet data \n",
    "* Tokenize tweets\n",
    "* Finetune / train model"
   ]
  },
  {
   "cell_type": "markdown",
   "metadata": {
    "id": "wmj22-TcZMef"
   },
   "source": [
    "## Setup\n"
   ]
  },
  {
   "cell_type": "code",
   "execution_count": 73,
   "metadata": {
    "colab": {
     "base_uri": "https://localhost:8080/"
    },
    "id": "Kj_7Tz0-pK69",
    "outputId": "6f8b53ca-4f57-4645-ac1a-334d70480fa4"
   },
   "outputs": [
    {
     "name": "stdout",
     "output_type": "stream",
     "text": [
      "Python implementation: CPython\n",
      "Python version       : 3.7.10\n",
      "IPython version      : 5.5.0\n",
      "\n",
      "numpy       : 1.19.5\n",
      "pandas      : 1.1.5\n",
      "torch       : 1.8.1+cu101\n",
      "transformers: 4.5.1\n",
      "\n"
     ]
    }
   ],
   "source": [
    "!pip install -q -U watermark\n",
    "!pip install -qq transformers\n",
    "\n",
    "%reload_ext watermark\n",
    "%watermark -v -p numpy,pandas,torch,transformers"
   ]
  },
  {
   "cell_type": "code",
   "execution_count": 74,
   "metadata": {
    "id": "bpqWtOrQZQkE"
   },
   "outputs": [],
   "source": [
    "# External utils\n",
    "import csv\n",
    "import time\n",
    "import torch\n",
    "import pickle \n",
    "import pandas as pd\n",
    "import numpy as np\n",
    "import seaborn as sn\n",
    "from sklearn.model_selection import train_test_split\n",
    "from sklearn.metrics import confusion_matrix\n",
    "\n",
    "# Torch libs\n",
    "import torch.nn as nn\n",
    "from torch.optim import AdamW\n",
    "from torch.utils.data import Dataset, DataLoader\n",
    "from transformers import pipeline, AutoModelForTokenClassification, AutoTokenizer, AutoModel\n",
    "from transformers.optimization import get_linear_schedule_with_warmup\n",
    "from transformers import BertModel\n",
    "\n",
    "# Google drive integration\n",
    "from google.colab import drive"
   ]
  },
  {
   "cell_type": "code",
   "execution_count": 75,
   "metadata": {
    "cellView": "form",
    "colab": {
     "base_uri": "https://localhost:8080/"
    },
    "id": "w68CZpOwFoly",
    "outputId": "a4c82fcf-1766-44b1-af85-9acc4540af5a"
   },
   "outputs": [
    {
     "data": {
      "text/plain": [
       "device(type='cuda', index=0)"
      ]
     },
     "execution_count": 75,
     "metadata": {
      "tags": []
     },
     "output_type": "execute_result"
    }
   ],
   "source": [
    "#@title Setup & Config\n",
    "import transformers\n",
    "from transformers import BertModel, BertTokenizer, AdamW, get_linear_schedule_with_warmup\n",
    "import torch\n",
    "\n",
    "import numpy as np\n",
    "import pandas as pd\n",
    "import seaborn as sns\n",
    "from pylab import rcParams\n",
    "import matplotlib.pyplot as plt\n",
    "from matplotlib import rc\n",
    "from sklearn.model_selection import train_test_split\n",
    "from sklearn.metrics import confusion_matrix, classification_report\n",
    "from collections import defaultdict\n",
    "from textwrap import wrap\n",
    "\n",
    "from torch import nn, optim\n",
    "from torch.utils.data import Dataset, DataLoader\n",
    "import torch.nn.functional as F\n",
    "\n",
    "%matplotlib inline\n",
    "%config InlineBackend.figure_format='retina'\n",
    "sns.set(style='whitegrid', palette='muted', font_scale=1.2)\n",
    "HAPPY_COLORS_PALETTE = [\"#01BEFE\", \"#FFDD00\", \"#FF7D00\", \"#FF006D\", \"#ADFF02\", \"#8F00FF\"]\n",
    "sns.set_palette(sns.color_palette(HAPPY_COLORS_PALETTE))\n",
    "rcParams['figure.figsize'] = 12, 8\n",
    "RANDOM_SEED = 42\n",
    "np.random.seed(RANDOM_SEED)\n",
    "torch.manual_seed(RANDOM_SEED)\n",
    "\n",
    "device = torch.device(\"cuda:0\" if torch.cuda.is_available() else \"cpu\")\n",
    "device"
   ]
  },
  {
   "cell_type": "code",
   "execution_count": 76,
   "metadata": {
    "colab": {
     "base_uri": "https://localhost:8080/"
    },
    "id": "_1aIzoaWsGxJ",
    "outputId": "3a5c7481-97c8-4ca5-ae95-6a0af75b608b"
   },
   "outputs": [
    {
     "name": "stdout",
     "output_type": "stream",
     "text": [
      "Mounted at /content/gdrive\n"
     ]
    }
   ],
   "source": [
    "drive.mount('/content/gdrive', force_remount=True)"
   ]
  },
  {
   "cell_type": "markdown",
   "metadata": {
    "id": "-b20yb_Lboyt"
   },
   "source": [
    "## Define classes"
   ]
  },
  {
   "cell_type": "code",
   "execution_count": 77,
   "metadata": {
    "id": "wHE_qAJjbnqX"
   },
   "outputs": [],
   "source": [
    "class TwitterClimateDataset(Dataset):\n",
    "\n",
    "  def __init__(self, df_clean_sample, tokenizer, max_len):\n",
    "    self.tweets = df_clean_sample['content'].values\n",
    "    self.clusters = df_clean_sample['Cluster'].values\n",
    "    self.tokenizer = tokenizer\n",
    "    self.max_len = max_len\n",
    "  \n",
    "  def __len__(self):\n",
    "    return len(self.tweets)\n",
    "  \n",
    "  def __getitem__(self, item):\n",
    "    tweet = str(self.tweets[item])\n",
    "    cluster = self.clusters[item]\n",
    "\n",
    "    encoding = self.tokenizer.encode_plus(\n",
    "      tweet,\n",
    "      padding='max_length',\n",
    "      truncation=True,\n",
    "      add_special_tokens=True,\n",
    "      max_length=self.max_len,\n",
    "      return_token_type_ids=False,\n",
    "      pad_to_max_length=True,\n",
    "      return_attention_mask=True,\n",
    "      return_tensors='pt',\n",
    "    )\n",
    "\n",
    "    return {\n",
    "      'content': tweet,\n",
    "      'input_ids': encoding['input_ids'].flatten(),\n",
    "      'attention_mask': encoding['attention_mask'].flatten(),\n",
    "      'clusters': torch.tensor(cluster, dtype=torch.long)\n",
    "    }\n",
    "\n",
    "class SentimentClassifier(nn.Module):\n",
    "\n",
    "  def __init__(self, n_classes, dropout):\n",
    "    super(SentimentClassifier, self).__init__()\n",
    "    self.bert = BertModel.from_pretrained(PRE_TRAINED_MODEL_NAME)\n",
    "    self.drop = nn.Dropout(p=dropout)\n",
    "    self.out = nn.Linear(self.bert.config.hidden_size, n_classes)\n",
    "  \n",
    "  def forward(self, input_ids, attention_mask, **kwargs):\n",
    "    pooled_output = self.bert(\n",
    "      input_ids=input_ids,\n",
    "      attention_mask=attention_mask\n",
    "    )\n",
    "    output = self.drop(pooled_output[1])\n",
    "    return self.out(output)"
   ]
  },
  {
   "cell_type": "markdown",
   "metadata": {
    "id": "rJncD7xPa9CM"
   },
   "source": [
    "## Define routines"
   ]
  },
  {
   "cell_type": "code",
   "execution_count": 78,
   "metadata": {
    "id": "5ekzJRI9bAaT"
   },
   "outputs": [],
   "source": [
    "def create_data_loader(df, tokenizer, batch_size):\n",
    "  ds = TwitterClimateDataset(\n",
    "    df,\n",
    "    tokenizer=tokenizer,\n",
    "    max_len=MAX_SEQ_LEN\n",
    "  )\n",
    "\n",
    "  return DataLoader(\n",
    "    ds,\n",
    "    batch_size=batch_size,\n",
    "    num_workers=2\n",
    "  )\n",
    "\n",
    "def train_epoch(\n",
    "    model, \n",
    "    data_loader, \n",
    "    val_loader,\n",
    "    loss_fn, \n",
    "    optimizer, \n",
    "    device, \n",
    "    scheduler, \n",
    "    n_examples_train,\n",
    "    n_examples_val\n",
    "  ):\n",
    "  model = model.train()\n",
    "  train_losses = []\n",
    "  correct_predictions = 0\n",
    "  train_accs = []\n",
    "  val_accs = []\n",
    "  val_losses = []\n",
    "  batch_nums = []\n",
    "  num_batches = len(data_loader)\n",
    "  every_n_batches = int(np.floor(num_batches * 0.05))\n",
    "  for i, d in enumerate(data_loader):\n",
    "    input_ids = d[\"input_ids\"].to(device)\n",
    "    attention_mask = d[\"attention_mask\"].to(device)\n",
    "    targets = d[\"clusters\"].to(device)\n",
    "    outputs = model(\n",
    "      input_ids=input_ids,\n",
    "      attention_mask=attention_mask\n",
    "    )\n",
    "    _, preds = torch.max(outputs, dim=1)\n",
    "    loss = loss_fn(outputs, targets)\n",
    "    if i % every_n_batches == 0:\n",
    "        val_acc, val_loss = eval_model(model, val_loader, loss_fn, device, n_examples_val)\n",
    "        train_losses.append(loss.item())\n",
    "        train_acc = torch.sum(preds == targets) / preds.shape[0]\n",
    "        train_accs.append(train_acc.cpu().item())\n",
    "        val_accs.append(val_acc.cpu().item())\n",
    "        val_losses.append(val_loss)\n",
    "        batch_nums.append(i)\n",
    "        print(f\"[batch {batch_nums[-1]}/{num_batches}]\\n training loss: {train_losses[-1]},\\n training acc: {train_accs[-1]},\\n val_loss: {val_losses[-1]},\\n val_acc: {val_accs[-1]}\\n\\n\")\n",
    "    correct_predictions += torch.sum(preds == targets)\n",
    "    #train_losses.append(loss.item())\n",
    "    loss.backward()\n",
    "    nn.utils.clip_grad_norm_(model.parameters(), max_norm=1.0)\n",
    "    optimizer.step()\n",
    "    scheduler.step()\n",
    "    optimizer.zero_grad()\n",
    "  return correct_predictions.double() / n_examples_train, train_losses, train_accs, val_accs, val_losses, batch_nums\n",
    "\n",
    "def eval_model(model, data_loader, loss_fn, device, n_examples):\n",
    "  model = model.eval()\n",
    "  losses = []\n",
    "  correct_predictions = 0\n",
    "  num_batches = len(data_loader)\n",
    "  every_n_batches = int(np.floor(num_batches * 0.05))\n",
    "  with torch.no_grad():\n",
    "    for i, d in enumerate(data_loader):\n",
    "      input_ids = d[\"input_ids\"].to(device)\n",
    "      attention_mask = d[\"attention_mask\"].to(device)\n",
    "      targets = d[\"clusters\"].to(device)\n",
    "      outputs = model(\n",
    "        input_ids=input_ids,\n",
    "        attention_mask=attention_mask\n",
    "      )\n",
    "      _, preds = torch.max(outputs, dim=1)\n",
    "      loss = loss_fn(outputs, targets)\n",
    "      if i % every_n_batches == 0:\n",
    "        # print(f\"[batch {i}/{num_batches}] validation loss: {loss.item()}\")\n",
    "        losses.append(loss.item())\n",
    "      correct_predictions += torch.sum(preds == targets)\n",
    "      #losses.append(loss.item())\n",
    "  return correct_predictions.double() / n_examples, np.mean(losses)\n",
    "\n",
    "def print_model_stats(history, test_acc):\n",
    "    print('Training accuracy:', history['train_acc'])\n",
    "    print('Training loss:', history['train_loss'])\n",
    "    print('Validation accuracy:', history['val_acc'])\n",
    "    print('Validation loss:', history['val_loss'])\n",
    "    print(50*'--')\n",
    "    print('Highest validation accuracy and epoch:', np.max(history['val_acc']), np.argmax(history['val_acc'])+1)\n",
    "    print('Final test accuracy:', test_acc)\n",
    "\n",
    "def encode_tweets(tweets):\n",
    "  return [(tokenizer.encode_plus(\n",
    "      tweet,\n",
    "      add_special_tokens=True,\n",
    "      max_length=MAX_SEQ_LEN,\n",
    "      return_token_type_ids=False,\n",
    "      pad_to_max_length=True,\n",
    "      return_attention_mask=True,\n",
    "      return_tensors='pt'\n",
    "), tweet) for tweet in tweets]\n",
    "\n",
    "def predict_sentiment(encoded_tweets, n_sample):\n",
    "  pred_labels = np.empty(n_sample)\n",
    "  for i, (encoded_tweet, tweet) in enumerate(encoded_tweets):\n",
    "\n",
    "    input_ids = encoded_tweet['input_ids'].to(device)\n",
    "    attention_mask = encoded_tweet['attention_mask'].to(device)\n",
    "\n",
    "    output = model(input_ids, attention_mask)\n",
    "    _, prediction = torch.max(output, dim=1)\n",
    "    \n",
    "    pred_labels[i] = prediction.item()\n",
    "        \n",
    "  return pred_labels"
   ]
  },
  {
   "cell_type": "markdown",
   "metadata": {
    "id": "ptPuBNhNas3Y"
   },
   "source": [
    "## Define hyperparameters and env vars"
   ]
  },
  {
   "cell_type": "code",
   "execution_count": 79,
   "metadata": {
    "id": "RD41zEQ1jYvz"
   },
   "outputs": [],
   "source": [
    "# Define training vs evaluating\n",
    "skip_training = True\n",
    "\n",
    "# Hyperparams\n",
    "LR = 2e-5 # Learning rate\n",
    "EPOCHS = 2\n",
    "DROPOUT = 0.3\n",
    "N_CLUSTERS = 2\n",
    "BATCH_SIZE = 64\n",
    "MAX_SEQ_LEN = 60\n",
    "WARMUP_STEPS = 0\n",
    "TEST_TRAIN_SPLIT = (0.2,0.8)\n",
    "TEST_VALIDATION_SPLIT = (0.5,0.5)\n",
    "RANDOM_SEED = 1234\n",
    "\n",
    "# Paths and model names\n",
    "DATA_FOLDER_PATH = 'data/preprocessed_tweets/'\n",
    "PROJECT_PATH = \"/content/gdrive/MyDrive/SNLP project/\"\n",
    "\n",
    "PRE_TRAINED_MODEL_NAME = 'digitalepidemiologylab/covid-twitter-bert-v2'\n",
    "SAVE_MODEL_NAME = 'covid-twitter-bert-v2'"
   ]
  },
  {
   "cell_type": "markdown",
   "metadata": {
    "id": "UsC2UVdtHUvc"
   },
   "source": [
    "## Load and prepare data"
   ]
  },
  {
   "cell_type": "code",
   "execution_count": 80,
   "metadata": {
    "id": "1SsGPJfGzIGu"
   },
   "outputs": [],
   "source": [
    "df_clean_sample = pd.read_csv(PROJECT_PATH + DATA_FOLDER_PATH + 'df_clean_sampled_binary.csv')"
   ]
  },
  {
   "cell_type": "code",
   "execution_count": 81,
   "metadata": {
    "colab": {
     "base_uri": "https://localhost:8080/"
    },
    "id": "vf0v8KMBdsgM",
    "outputId": "84674b77-67ff-4e6b-b77e-efa60c21bf29"
   },
   "outputs": [
    {
     "data": {
      "text/plain": [
       "((39678, 9), (4960, 9), (4960, 9))"
      ]
     },
     "execution_count": 81,
     "metadata": {
      "tags": []
     },
     "output_type": "execute_result"
    }
   ],
   "source": [
    "df_train, df_test = train_test_split(df_clean_sample, test_size=TEST_TRAIN_SPLIT[0], random_state=RANDOM_SEED)\n",
    "df_val, df_test = train_test_split(df_test, test_size=TEST_VALIDATION_SPLIT[0], random_state=RANDOM_SEED)\n",
    "\n",
    "tokenizer = AutoTokenizer.from_pretrained(PRE_TRAINED_MODEL_NAME)\n",
    "train_data_loader = create_data_loader(df_train, tokenizer, BATCH_SIZE)\n",
    "test_data_loader = create_data_loader(df_test, tokenizer, BATCH_SIZE)\n",
    "val_data_loader = create_data_loader(df_val, tokenizer, BATCH_SIZE)\n",
    "\n",
    "df_train.shape, df_val.shape, df_test.shape"
   ]
  },
  {
   "cell_type": "markdown",
   "metadata": {
    "id": "fRAl2_RabxQ-"
   },
   "source": [
    "## Train the model"
   ]
  },
  {
   "cell_type": "code",
   "execution_count": 82,
   "metadata": {
    "colab": {
     "base_uri": "https://localhost:8080/"
    },
    "id": "odIL_p0DlUbQ",
    "outputId": "f91c31cf-ec08-4590-bad7-42d8418d58f6"
   },
   "outputs": [
    {
     "name": "stdout",
     "output_type": "stream",
     "text": [
      "CPU times: user 3 µs, sys: 0 ns, total: 3 µs\n",
      "Wall time: 6.68 µs\n"
     ]
    }
   ],
   "source": [
    "%%time\n",
    "if not skip_training:\n",
    "  model = SentimentClassifier(N_CLUSTERS, DROPOUT)\n",
    "  model = model.to(device)\n",
    "\n",
    "  optimizer = AdamW(model.parameters(), lr=LR)\n",
    "  total_steps = len(train_data_loader) * EPOCHS\n",
    "\n",
    "  scheduler = get_linear_schedule_with_warmup(\n",
    "    optimizer,\n",
    "    num_warmup_steps=WARMUP_STEPS,\n",
    "    num_training_steps=total_steps\n",
    "  )\n",
    "\n",
    "  loss_fn = nn.CrossEntropyLoss().to(device)\n",
    "  \n",
    "  history = defaultdict(list)\n",
    "\n",
    "  for epoch in range(2):\n",
    "    print(f'Epoch {epoch + 1}/{EPOCHS}')\n",
    "    print('-' * 10)\n",
    "    train_acc, train_losses, train_accs, val_accs, val_losses, batch_nums = train_epoch(\n",
    "      model,\n",
    "      train_data_loader,\n",
    "      val_data_loader,\n",
    "      loss_fn, \n",
    "      optimizer, \n",
    "      device, \n",
    "      scheduler, \n",
    "      df_train.shape[0],\n",
    "      df_val.shape[0]\n",
    "    )\n",
    "\n",
    "    test_acc, _ = eval_model(\n",
    "      model,\n",
    "      test_data_loader,\n",
    "      loss_fn,\n",
    "      device,\n",
    "      len(df_test)\n",
    "    )\n",
    "\n",
    "    # Append to history\n",
    "    history['train_acc'].append(train_acc.cpu().numpy()) \n",
    "    history['train_loss'].append(train_losses)\n",
    "    history['val_acc'].append(val_accs)\n",
    "    history['val_loss'].append(val_losses)\n",
    "    history['test_acc'].append(test_acc.cpu().numpy())\n",
    "    \n",
    "    # Save model state\n",
    "    models_path = PROJECT_PATH + 'models/' \n",
    "    torch.save(model.state_dict(), models_path + f'{SAVE_MODEL_NAME}_epoch_{epoch}.bin')\n",
    "\n",
    "  # Save history\n",
    "  with open(PROJECT_PATH + '/histories/' + f'{SAVE_MODEL_NAME}-history.pickle', 'wb') as file:\n",
    "    pickle.dump(history, file)\n",
    "\n",
    "  print_model_stats(history, test_acc.cpu().numpy())\n",
    "  print(50*'--')"
   ]
  }
 ],
 "metadata": {
  "accelerator": "GPU",
  "colab": {
   "collapsed_sections": [],
   "machine_shape": "hm",
   "name": "tbert-twitter-sentiment-analysis-with-bert.ipynb",
   "provenance": [],
   "toc_visible": true
  },
  "kernelspec": {
   "display_name": "Python 3",
   "language": "python",
   "name": "python3"
  },
  "language_info": {
   "codemirror_mode": {
    "name": "ipython",
    "version": 3
   },
   "file_extension": ".py",
   "mimetype": "text/x-python",
   "name": "python",
   "nbconvert_exporter": "python",
   "pygments_lexer": "ipython3",
   "version": "3.8.5"
  }
 },
 "nbformat": 4,
 "nbformat_minor": 4
}
