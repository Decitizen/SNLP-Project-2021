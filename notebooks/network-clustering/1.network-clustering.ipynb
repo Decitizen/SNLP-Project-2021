{
 "cells": [
  {
   "cell_type": "code",
   "execution_count": 1,
   "metadata": {},
   "outputs": [],
   "source": [
    "import pandas as pd\n",
    "import numpy as np\n",
    "import igraph as ig\n",
    "import networkx as nx\n",
    "import matplotlib.pyplot as plt"
   ]
  },
  {
   "cell_type": "markdown",
   "metadata": {},
   "source": [
    "# Network statistics and labeling  \n",
    "## **SNLP team project**"
   ]
  },
  {
   "cell_type": "code",
   "execution_count": 2,
   "metadata": {},
   "outputs": [],
   "source": [
    "df_labels = pd.read_csv('community_labels.csv', header=0)"
   ]
  },
  {
   "cell_type": "code",
   "execution_count": 3,
   "metadata": {},
   "outputs": [
    {
     "data": {
      "text/plain": [
       "Index(['Id', 'Label', 'timeset', 'Cluster'], dtype='object')"
      ]
     },
     "execution_count": 3,
     "metadata": {},
     "output_type": "execute_result"
    }
   ],
   "source": [
    "df_labels.columns"
   ]
  },
  {
   "cell_type": "code",
   "execution_count": 4,
   "metadata": {},
   "outputs": [],
   "source": [
    "df = pd.read_json('../../tweet_data/preprocessed/text/tweets_climate_en_text_20200812.json',  orient = \"records\", dtype = False, lines = True, encoding = \"utf-8\")\n",
    "GX_full = pd.read_pickle('../../tweet_data/graphs/full_networks_directed-20200812.pickle')\n",
    "GX_lc = pd.read_pickle('../../tweet_data/graphs/lc_networks_directed-20200812.pickle')"
   ]
  },
  {
   "cell_type": "markdown",
   "metadata": {},
   "source": [
    "#### **Network stats:** number of nodes and edges"
   ]
  },
  {
   "cell_type": "code",
   "execution_count": 5,
   "metadata": {},
   "outputs": [
    {
     "name": "stdout",
     "output_type": "stream",
     "text": [
      "Number of nodes:\n",
      " * full network:      809157\n",
      " * largest component: 625893\n"
     ]
    }
   ],
   "source": [
    "print('Number of nodes:\\n * full network: {:>11}\\n * largest component: {}'.format(GX_full[1].number_of_nodes(), GX_lc[1].number_of_nodes()))"
   ]
  },
  {
   "cell_type": "code",
   "execution_count": 6,
   "metadata": {},
   "outputs": [
    {
     "name": "stdout",
     "output_type": "stream",
     "text": [
      "Number of edges:\n",
      " * full network:      1089988\n",
      " * largest component: 1066722\n"
     ]
    }
   ],
   "source": [
    "print('Number of edges:\\n * full network: {:>12}\\n * largest component: {}'.format(GX_full[1].number_of_edges(), GX_lc[1].number_of_edges()))"
   ]
  },
  {
   "cell_type": "code",
   "execution_count": 7,
   "metadata": {},
   "outputs": [
    {
     "name": "stdout",
     "output_type": "stream",
     "text": [
      "Largest component retains\n",
      " * fraction of nodes: 0.77\n",
      " * fraction of edges: 0.98\n"
     ]
    }
   ],
   "source": [
    "print('Largest component retains\\n * fraction of nodes: {:.2f}\\n * fraction of edges: {:.2f}'.format( GX_lc[1].number_of_nodes() / GX_full[1].number_of_nodes(),\n",
    "                                                                                                      GX_lc[1].number_of_edges() / GX_full[1].number_of_edges()))"
   ]
  },
  {
   "cell_type": "markdown",
   "metadata": {},
   "source": [
    "#### **Share of retweets vs original tweets**"
   ]
  },
  {
   "cell_type": "code",
   "execution_count": 8,
   "metadata": {},
   "outputs": [
    {
     "data": {
      "text/plain": [
       "Index(['content', 'created_at', 'id_str', 'user_id_str', 'parent_tweet_id_str',\n",
       "       'parent_user_id_str', 'coordinates'],\n",
       "      dtype='object')"
      ]
     },
     "execution_count": 8,
     "metadata": {},
     "output_type": "execute_result"
    }
   ],
   "source": [
    "df.columns"
   ]
  },
  {
   "cell_type": "code",
   "execution_count": 9,
   "metadata": {},
   "outputs": [],
   "source": [
    "idxs_random = np.random.choice(range(df.shape[0]), 50)"
   ]
  },
  {
   "cell_type": "markdown",
   "metadata": {},
   "source": [
    "Find the pseudonymized id for the missing values:"
   ]
  },
  {
   "cell_type": "code",
   "execution_count": 10,
   "metadata": {},
   "outputs": [
    {
     "data": {
      "text/plain": [
       "0    83992313\n",
       "dtype: int64"
      ]
     },
     "execution_count": 10,
     "metadata": {},
     "output_type": "execute_result"
    }
   ],
   "source": [
    "df['parent_tweet_id_str'].mode()"
   ]
  },
  {
   "cell_type": "code",
   "execution_count": 11,
   "metadata": {},
   "outputs": [
    {
     "name": "stdout",
     "output_type": "stream",
     "text": [
      "Number of tweets in the data: 1614860\n",
      "Number of retweets: 1214704, fraction of all tweets: 0.75\n"
     ]
    }
   ],
   "source": [
    "num_rts = np.sum(df['parent_tweet_id_str'] != 83992313)\n",
    "print('Number of tweets in the data: {}'.format(df.shape[0]))\n",
    "print('Number of retweets: {}, fraction of all tweets: {:.2f}'.format(num_rts, num_rts / df.shape[0]))"
   ]
  },
  {
   "cell_type": "markdown",
   "metadata": {},
   "source": [
    "**Conclusion**: 75% of the tweets in the data are retweets which means that 25% or ca. 0.4 million of the tweets are original tweets."
   ]
  },
  {
   "cell_type": "markdown",
   "metadata": {},
   "source": [
    "#### **Presence of geocoordinates**"
   ]
  },
  {
   "cell_type": "code",
   "execution_count": 12,
   "metadata": {},
   "outputs": [
    {
     "name": "stdout",
     "output_type": "stream",
     "text": [
      "Number of tweets that include geocoordinate data: 188, fraction of all tweets: 0.00012\n"
     ]
    }
   ],
   "source": [
    "num_gc = np.sum(df.coordinates.notna())\n",
    "print('Number of tweets that include geocoordinate data: {}, fraction of all tweets: {:.5f}'.format(num_gc, num_gc / df.shape[0]))"
   ]
  },
  {
   "cell_type": "markdown",
   "metadata": {},
   "source": [
    "**Conclusion**: Only 1 in every 10000 tweets, or 188 tweets altogether, include geocoordinate data."
   ]
  },
  {
   "cell_type": "markdown",
   "metadata": {},
   "source": [
    "#### **iGraph export**"
   ]
  },
  {
   "cell_type": "markdown",
   "metadata": {},
   "source": [
    "Export networkx retweet network as graphml file for more efficient network computations:"
   ]
  },
  {
   "cell_type": "code",
   "execution_count": 13,
   "metadata": {},
   "outputs": [],
   "source": [
    "retweet_netw_indx = 1\n",
    "G = GX_lc[retweet_netw_indx] # Select retweet network\n",
    "filename = 'snlp_climate_retweet_netw.graphml'\n",
    "nx.write_graphml(G, filename) # Export NX graph to file"
   ]
  },
  {
   "cell_type": "code",
   "execution_count": 14,
   "metadata": {},
   "outputs": [],
   "source": [
    "Gix = ig.read(filename,format=\"graphml\") # Create new IG graph from file"
   ]
  },
  {
   "cell_type": "markdown",
   "metadata": {},
   "source": [
    "#### **Verify social network characteristics**\n",
    "We will look into the basic structural measures / characteristics of the retweet network to verify that it fulfills the basic characteristics of social network.  "
   ]
  },
  {
   "cell_type": "code",
   "execution_count": 15,
   "metadata": {},
   "outputs": [],
   "source": [
    "degs = Gix.degree_distribution()"
   ]
  },
  {
   "cell_type": "code",
   "execution_count": 16,
   "metadata": {},
   "outputs": [],
   "source": [
    "r0, r1, freq = zip(*degs.bins())"
   ]
  },
  {
   "cell_type": "code",
   "execution_count": 17,
   "metadata": {},
   "outputs": [],
   "source": [
    "X,Y = zip(*[(i+1,x) for i,x in enumerate(freq) if x > 0])"
   ]
  },
  {
   "cell_type": "markdown",
   "metadata": {},
   "source": [
    "Average degree"
   ]
  },
  {
   "cell_type": "code",
   "execution_count": 18,
   "metadata": {},
   "outputs": [
    {
     "data": {
      "text/plain": [
       "3.408640134975047"
      ]
     },
     "execution_count": 18,
     "metadata": {},
     "output_type": "execute_result"
    }
   ],
   "source": [
    "degs.mean"
   ]
  },
  {
   "cell_type": "code",
   "execution_count": 19,
   "metadata": {},
   "outputs": [
    {
     "data": {
      "image/png": "[encoded data removed]",
      "text/plain": [
       "<Figure size 720x504 with 1 Axes>"
      ]
     },
     "metadata": {
      "needs_background": "light"
     },
     "output_type": "display_data"
    }
   ],
   "source": [
    "fig, ax = plt.subplots(1,1, figsize=(10,7))\n",
    "ax.set_title('Network degree distribution')\n",
    "ax.set_yscale('log')\n",
    "ax.set_xscale('log')\n",
    "ax.set_ylabel('Freq (log)')\n",
    "ax.set_xlabel('Degree')\n",
    "ax.set_gid('')\n",
    "ax.spines['right'].set_visible(False)\n",
    "ax.spines['top'].set_visible(False)\n",
    "plt.plot(X,Y, '--', lw=1.0, fillstyle='none', color='gray', alpha=0.4)\n",
    "plt.plot(X,Y, 'o', ms=3.2, fillstyle='none', color='gray')\n",
    "fig.savefig('degree_distribution.pdf')"
   ]
  },
  {
   "cell_type": "markdown",
   "metadata": {},
   "source": [
    "Degree distribution follows powerlaw / Zipf's distribution as is typical for social networks; in other words top degree nodes are extremely rare but they have high degree values. Average degree is only 3.4.  "
   ]
  },
  {
   "cell_type": "markdown",
   "metadata": {},
   "source": [
    "Density"
   ]
  },
  {
   "cell_type": "code",
   "execution_count": 25,
   "metadata": {},
   "outputs": [
    {
     "data": {
      "text/plain": [
       "2.7230258055504367e-06"
      ]
     },
     "execution_count": 25,
     "metadata": {},
     "output_type": "execute_result"
    }
   ],
   "source": [
    "Gix.density()"
   ]
  },
  {
   "cell_type": "markdown",
   "metadata": {},
   "source": [
    "Average clustering coefficient"
   ]
  },
  {
   "cell_type": "code",
   "execution_count": 26,
   "metadata": {},
   "outputs": [
    {
     "data": {
      "text/plain": [
       "0.0001480117032277105"
      ]
     },
     "execution_count": 26,
     "metadata": {},
     "output_type": "execute_result"
    }
   ],
   "source": [
    "Gix.transitivity_undirected()"
   ]
  },
  {
   "cell_type": "markdown",
   "metadata": {},
   "source": [
    "Both density and avg clustering coefficient of the network are very small releaving that the network is very sparse. This is due to the short time series that the data has been collected over. As number of edges increase proportional to $|V|^2$, where $V$ is the set of nodes in the network, longer time period would yield us more densely connected network."
   ]
  },
  {
   "cell_type": "markdown",
   "metadata": {},
   "source": [
    "Diameter"
   ]
  },
  {
   "cell_type": "code",
   "execution_count": 27,
   "metadata": {},
   "outputs": [
    {
     "data": {
      "text/plain": [
       "26"
      ]
     },
     "execution_count": 27,
     "metadata": {},
     "output_type": "execute_result"
    }
   ],
   "source": [
    "Gix.diameter()"
   ]
  },
  {
   "cell_type": "markdown",
   "metadata": {},
   "source": [
    "Diameter is relatively long whereas for typical social networks, this is < 10. This is most probably also explained by the short time period of the collection / sampling and possibly very wide geographical area of collection (no restrictions)."
   ]
  },
  {
   "cell_type": "markdown",
   "metadata": {},
   "source": [
    "Assortativity"
   ]
  },
  {
   "cell_type": "code",
   "execution_count": 91,
   "metadata": {},
   "outputs": [
    {
     "data": {
      "text/plain": [
       "-0.06196024095762551"
      ]
     },
     "execution_count": 91,
     "metadata": {},
     "output_type": "execute_result"
    }
   ],
   "source": [
    "Gix.assortativity_degree()"
   ]
  },
  {
   "cell_type": "markdown",
   "metadata": {},
   "source": [
    "Network's assortativity is intrestingly also slightly negative which is atypical for social networks for which assortativity is often > 0.1. [\\[1](https://arxiv.org/pdf/cond-mat/0205405.pdf)\\]. However this could be explained by the sparsity of the network."
   ]
  },
  {
   "cell_type": "markdown",
   "metadata": {},
   "source": [
    "#### **Partitioning using Leiden**"
   ]
  },
  {
   "cell_type": "markdown",
   "metadata": {},
   "source": [
    "#### Export to gephi"
   ]
  },
  {
   "cell_type": "code",
   "execution_count": 51,
   "metadata": {},
   "outputs": [],
   "source": [
    "attrs = ['interactions', 'retweets', 'mentions', 'follows']\n",
    "for G, attr in zip(GX_lc, attrs):\n",
    "    with open('gephi_{}.csv'.format(attr), 'w') as file:\n",
    "        file.write('{},{},{}\\n'.format('source','target','weight'))\n",
    "        for u,v,w in G.edges(data=attr):\n",
    "            file.write('{},{},{}\\n'.format(u,v,w))"
   ]
  },
  {
   "cell_type": "markdown",
   "metadata": {},
   "source": [
    "In gephi we visualize the retweet network using force directed network layout algorithm (ForceAtlas 2). We use these visualizations as the first heuristics in order to identify the clusters / echo chambers in the retweet network. As can be seen from the figs \\[[1]('../../figs/1.fig_3cs_community_detection_1e-6.png')\\] and \\[[2]('../../figs/2.fig_final_community_detection2e-07.png')\\], network present clear separation into communities which both the layout as well as community detection methods agree upon. We use Leiden algorithm with CPM (Constant Potts Model) quality function because of its multiple favorable properties including scalability, ability to process directed networks and explicit guarantees. \n",
    "\n",
    "**Picking resolution parameter:**\n",
    "* Using resolution parameter $\\gamma = 10^{-6}$ yields 2248 communities with three largest communities (53.26%, 18.96%, 14.57%) include 86.79% of the nodes in the network, quality of the partitioning is > 0.91. Further fine-tuning leads us to select $\\gamma = 2\\cdot10^{-7}$ as the final parameter choice, yielding all in all 182 communities, with 2 major communities (81.86%, 13.59%) including 95.45% of the nodes in the network and quality of the partitioning > 0.97. \n",
    "\n",
    "In the following we will do a quick manual inspection of the attitudinal alignment of the sentiment within different communities: "
   ]
  }
 ],
 "metadata": {
  "kernelspec": {
   "display_name": "gcn",
   "language": "python",
   "name": "gcn"
  },
  "language_info": {
   "codemirror_mode": {
    "name": "ipython",
    "version": 3
   },
   "file_extension": ".py",
   "mimetype": "text/x-python",
   "name": "python",
   "nbconvert_exporter": "python",
   "pygments_lexer": "ipython3",
   "version": "3.8.5"
  }
 },
 "nbformat": 4,
 "nbformat_minor": 4
}
